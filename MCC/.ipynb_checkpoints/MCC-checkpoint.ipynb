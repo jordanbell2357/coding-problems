{
 "cells": [
  {
   "cell_type": "code",
   "execution_count": 1,
   "id": "7ddede00-0e9e-4e07-9f34-7c4f4d058c5a",
   "metadata": {},
   "outputs": [],
   "source": [
    "import pandas as pd"
   ]
  },
  {
   "cell_type": "code",
   "execution_count": 2,
   "id": "75e89de8-a25b-45c7-8088-15e4eb1b851a",
   "metadata": {},
   "outputs": [],
   "source": [
    "df = pd.read_csv('RegistrationDetails.csv', encoding = 'ISO-8859-1')"
   ]
  },
  {
   "cell_type": "markdown",
   "id": "d480dfbc-f67b-4ad7-a107-5815a231031d",
   "metadata": {},
   "source": [
    "Without encoding, we get\n",
    "> 'utf-8' codec can't decode byte 0xe9 in position 301: invalid continuation byte\n",
    "\n",
    "Follow <https://stackoverflow.com/questions/19699367/for-line-in-results-in-unicodedecodeerror-utf-8-codec-cant-decode-byte>"
   ]
  },
  {
   "cell_type": "code",
   "execution_count": 3,
   "id": "81d9a45a-3076-4bef-8f54-7c34f9347951",
   "metadata": {},
   "outputs": [
    {
     "data": {
      "text/html": [
       "<div>\n",
       "<style scoped>\n",
       "    .dataframe tbody tr th:only-of-type {\n",
       "        vertical-align: middle;\n",
       "    }\n",
       "\n",
       "    .dataframe tbody tr th {\n",
       "        vertical-align: top;\n",
       "    }\n",
       "\n",
       "    .dataframe thead th {\n",
       "        text-align: right;\n",
       "    }\n",
       "</style>\n",
       "<table border=\"1\" class=\"dataframe\">\n",
       "  <thead>\n",
       "    <tr style=\"text-align: right;\">\n",
       "      <th></th>\n",
       "      <th>CandidateCode</th>\n",
       "      <th>UniversityName</th>\n",
       "      <th>UniversityCountry</th>\n",
       "      <th>PreviousQEISessionName</th>\n",
       "      <th>PreviousQEISessionStanding</th>\n",
       "    </tr>\n",
       "  </thead>\n",
       "  <tbody>\n",
       "    <tr>\n",
       "      <th>0</th>\n",
       "      <td>1195124581</td>\n",
       "      <td>Ebonyi State University College of Health Scie...</td>\n",
       "      <td>NIGERIA</td>\n",
       "      <td>NaN</td>\n",
       "      <td>NaN</td>\n",
       "    </tr>\n",
       "    <tr>\n",
       "      <th>1</th>\n",
       "      <td>1363874476</td>\n",
       "      <td>University of Kordofan Faculty of Medicine and...</td>\n",
       "      <td>SUDAN</td>\n",
       "      <td>MCCQE Part I April 2018</td>\n",
       "      <td>Fail</td>\n",
       "    </tr>\n",
       "    <tr>\n",
       "      <th>2</th>\n",
       "      <td>1083906462</td>\n",
       "      <td>Université de Montréal Faculté de Médecine</td>\n",
       "      <td>CANADA</td>\n",
       "      <td>NaN</td>\n",
       "      <td>NaN</td>\n",
       "    </tr>\n",
       "    <tr>\n",
       "      <th>3</th>\n",
       "      <td>1263087594</td>\n",
       "      <td>University of Notre Dame Australia School of M...</td>\n",
       "      <td>AUSTRALIA</td>\n",
       "      <td>NaN</td>\n",
       "      <td>NaN</td>\n",
       "    </tr>\n",
       "    <tr>\n",
       "      <th>4</th>\n",
       "      <td>1050338045</td>\n",
       "      <td>Rawalpindi Medical University</td>\n",
       "      <td>PAKISTAN</td>\n",
       "      <td>NaN</td>\n",
       "      <td>NaN</td>\n",
       "    </tr>\n",
       "  </tbody>\n",
       "</table>\n",
       "</div>"
      ],
      "text/plain": [
       "   CandidateCode                                     UniversityName  \\\n",
       "0     1195124581  Ebonyi State University College of Health Scie...   \n",
       "1     1363874476  University of Kordofan Faculty of Medicine and...   \n",
       "2     1083906462         Université de Montréal Faculté de Médecine   \n",
       "3     1263087594  University of Notre Dame Australia School of M...   \n",
       "4     1050338045                      Rawalpindi Medical University   \n",
       "\n",
       "  UniversityCountry   PreviousQEISessionName PreviousQEISessionStanding  \n",
       "0           NIGERIA                      NaN                        NaN  \n",
       "1             SUDAN  MCCQE Part I April 2018                       Fail  \n",
       "2            CANADA                      NaN                        NaN  \n",
       "3         AUSTRALIA                      NaN                        NaN  \n",
       "4          PAKISTAN                      NaN                        NaN  "
      ]
     },
     "execution_count": 3,
     "metadata": {},
     "output_type": "execute_result"
    }
   ],
   "source": [
    "df.head()"
   ]
  },
  {
   "cell_type": "code",
   "execution_count": 4,
   "id": "77624ed2-5cc7-4338-bf57-13a5bd7e8688",
   "metadata": {},
   "outputs": [
    {
     "data": {
      "text/plain": [
       "(5470, 5)"
      ]
     },
     "execution_count": 4,
     "metadata": {},
     "output_type": "execute_result"
    }
   ],
   "source": [
    "df.shape"
   ]
  },
  {
   "cell_type": "code",
   "execution_count": 5,
   "id": "d1bb0ca1-7674-421d-9bc2-69e91ccc0ca1",
   "metadata": {},
   "outputs": [
    {
     "data": {
      "text/plain": [
       "False"
      ]
     },
     "execution_count": 5,
     "metadata": {},
     "output_type": "execute_result"
    }
   ],
   "source": [
    "df.CandidateCode.is_unique"
   ]
  },
  {
   "cell_type": "code",
   "execution_count": 6,
   "id": "d24ae4a9-ce90-4a92-836f-4893e0d2df6f",
   "metadata": {},
   "outputs": [],
   "source": [
    "df_dups = df[df.CandidateCode.duplicated()]"
   ]
  },
  {
   "cell_type": "code",
   "execution_count": 7,
   "id": "9b983e77-7af1-4436-b990-49d26cfdda61",
   "metadata": {},
   "outputs": [
    {
     "data": {
      "text/html": [
       "<div>\n",
       "<style scoped>\n",
       "    .dataframe tbody tr th:only-of-type {\n",
       "        vertical-align: middle;\n",
       "    }\n",
       "\n",
       "    .dataframe tbody tr th {\n",
       "        vertical-align: top;\n",
       "    }\n",
       "\n",
       "    .dataframe thead th {\n",
       "        text-align: right;\n",
       "    }\n",
       "</style>\n",
       "<table border=\"1\" class=\"dataframe\">\n",
       "  <thead>\n",
       "    <tr style=\"text-align: right;\">\n",
       "      <th></th>\n",
       "      <th>CandidateCode</th>\n",
       "      <th>UniversityName</th>\n",
       "      <th>UniversityCountry</th>\n",
       "      <th>PreviousQEISessionName</th>\n",
       "      <th>PreviousQEISessionStanding</th>\n",
       "    </tr>\n",
       "  </thead>\n",
       "  <tbody>\n",
       "    <tr>\n",
       "      <th>524</th>\n",
       "      <td>2011955884</td>\n",
       "      <td>Saint James School of Medicine St. Vincent and...</td>\n",
       "      <td>BONAIRE</td>\n",
       "      <td>MCCQE Part I Fall 2015</td>\n",
       "      <td>Fail</td>\n",
       "    </tr>\n",
       "    <tr>\n",
       "      <th>525</th>\n",
       "      <td>2011955884</td>\n",
       "      <td>Saint James School of Medicine St. Vincent and...</td>\n",
       "      <td>BONAIRE</td>\n",
       "      <td>MCCQE Part I Fall 2015</td>\n",
       "      <td>Fail</td>\n",
       "    </tr>\n",
       "  </tbody>\n",
       "</table>\n",
       "</div>"
      ],
      "text/plain": [
       "     CandidateCode                                     UniversityName  \\\n",
       "524     2011955884  Saint James School of Medicine St. Vincent and...   \n",
       "525     2011955884  Saint James School of Medicine St. Vincent and...   \n",
       "\n",
       "    UniversityCountry  PreviousQEISessionName PreviousQEISessionStanding  \n",
       "524           BONAIRE  MCCQE Part I Fall 2015                       Fail  \n",
       "525           BONAIRE  MCCQE Part I Fall 2015                       Fail  "
      ]
     },
     "execution_count": 7,
     "metadata": {},
     "output_type": "execute_result"
    }
   ],
   "source": [
    "df[df.CandidateCode == 2011955884]"
   ]
  },
  {
   "cell_type": "code",
   "execution_count": 8,
   "id": "a8160193-14f0-437d-99ef-de27b9935ee6",
   "metadata": {},
   "outputs": [],
   "source": [
    "df_nodups = df.drop_duplicates()"
   ]
  },
  {
   "cell_type": "code",
   "execution_count": 9,
   "id": "4b5c23d9-e800-4cbc-b44a-80d09c3a5282",
   "metadata": {},
   "outputs": [
    {
     "data": {
      "text/plain": [
       "True"
      ]
     },
     "execution_count": 9,
     "metadata": {},
     "output_type": "execute_result"
    }
   ],
   "source": [
    "df_nodups.CandidateCode.is_unique"
   ]
  },
  {
   "cell_type": "code",
   "execution_count": 10,
   "id": "f411e86e-8f0d-4cc9-aade-3117ebbcca30",
   "metadata": {},
   "outputs": [
    {
     "data": {
      "text/plain": [
       "(5449, 5)"
      ]
     },
     "execution_count": 10,
     "metadata": {},
     "output_type": "execute_result"
    }
   ],
   "source": [
    "df_nodups.shape"
   ]
  },
  {
   "cell_type": "markdown",
   "id": "4730f95b-2837-4b9c-b1a0-7c77b60acd61",
   "metadata": {},
   "source": [
    "The above shows that while there are duplicate CandidateCodes, the rows are themselves duplicates."
   ]
  },
  {
   "cell_type": "code",
   "execution_count": 11,
   "id": "8e778777-16fe-4c9e-815a-8fb252b09a55",
   "metadata": {},
   "outputs": [],
   "source": [
    "df_clean = df_nodups.set_index('CandidateCode')"
   ]
  },
  {
   "cell_type": "code",
   "execution_count": 12,
   "id": "900d09f0-f11f-45e8-9f48-d18e8931c540",
   "metadata": {},
   "outputs": [
    {
     "data": {
      "text/html": [
       "<div>\n",
       "<style scoped>\n",
       "    .dataframe tbody tr th:only-of-type {\n",
       "        vertical-align: middle;\n",
       "    }\n",
       "\n",
       "    .dataframe tbody tr th {\n",
       "        vertical-align: top;\n",
       "    }\n",
       "\n",
       "    .dataframe thead th {\n",
       "        text-align: right;\n",
       "    }\n",
       "</style>\n",
       "<table border=\"1\" class=\"dataframe\">\n",
       "  <thead>\n",
       "    <tr style=\"text-align: right;\">\n",
       "      <th></th>\n",
       "      <th>UniversityName</th>\n",
       "      <th>UniversityCountry</th>\n",
       "      <th>PreviousQEISessionName</th>\n",
       "      <th>PreviousQEISessionStanding</th>\n",
       "    </tr>\n",
       "    <tr>\n",
       "      <th>CandidateCode</th>\n",
       "      <th></th>\n",
       "      <th></th>\n",
       "      <th></th>\n",
       "      <th></th>\n",
       "    </tr>\n",
       "  </thead>\n",
       "  <tbody>\n",
       "    <tr>\n",
       "      <th>1195124581</th>\n",
       "      <td>Ebonyi State University College of Health Scie...</td>\n",
       "      <td>NIGERIA</td>\n",
       "      <td>NaN</td>\n",
       "      <td>NaN</td>\n",
       "    </tr>\n",
       "    <tr>\n",
       "      <th>1363874476</th>\n",
       "      <td>University of Kordofan Faculty of Medicine and...</td>\n",
       "      <td>SUDAN</td>\n",
       "      <td>MCCQE Part I April 2018</td>\n",
       "      <td>Fail</td>\n",
       "    </tr>\n",
       "    <tr>\n",
       "      <th>1083906462</th>\n",
       "      <td>Université de Montréal Faculté de Médecine</td>\n",
       "      <td>CANADA</td>\n",
       "      <td>NaN</td>\n",
       "      <td>NaN</td>\n",
       "    </tr>\n",
       "    <tr>\n",
       "      <th>1263087594</th>\n",
       "      <td>University of Notre Dame Australia School of M...</td>\n",
       "      <td>AUSTRALIA</td>\n",
       "      <td>NaN</td>\n",
       "      <td>NaN</td>\n",
       "    </tr>\n",
       "    <tr>\n",
       "      <th>1050338045</th>\n",
       "      <td>Rawalpindi Medical University</td>\n",
       "      <td>PAKISTAN</td>\n",
       "      <td>NaN</td>\n",
       "      <td>NaN</td>\n",
       "    </tr>\n",
       "  </tbody>\n",
       "</table>\n",
       "</div>"
      ],
      "text/plain": [
       "                                                  UniversityName  \\\n",
       "CandidateCode                                                      \n",
       "1195124581     Ebonyi State University College of Health Scie...   \n",
       "1363874476     University of Kordofan Faculty of Medicine and...   \n",
       "1083906462            Université de Montréal Faculté de Médecine   \n",
       "1263087594     University of Notre Dame Australia School of M...   \n",
       "1050338045                         Rawalpindi Medical University   \n",
       "\n",
       "              UniversityCountry   PreviousQEISessionName  \\\n",
       "CandidateCode                                              \n",
       "1195124581              NIGERIA                      NaN   \n",
       "1363874476                SUDAN  MCCQE Part I April 2018   \n",
       "1083906462               CANADA                      NaN   \n",
       "1263087594            AUSTRALIA                      NaN   \n",
       "1050338045             PAKISTAN                      NaN   \n",
       "\n",
       "              PreviousQEISessionStanding  \n",
       "CandidateCode                             \n",
       "1195124581                           NaN  \n",
       "1363874476                          Fail  \n",
       "1083906462                           NaN  \n",
       "1263087594                           NaN  \n",
       "1050338045                           NaN  "
      ]
     },
     "execution_count": 12,
     "metadata": {},
     "output_type": "execute_result"
    }
   ],
   "source": [
    "df_clean.head()"
   ]
  },
  {
   "cell_type": "code",
   "execution_count": 13,
   "id": "90a6c5d5-34b4-4c81-b433-abefac54f8f4",
   "metadata": {},
   "outputs": [
    {
     "data": {
      "text/plain": [
       "(5449, 4)"
      ]
     },
     "execution_count": 13,
     "metadata": {},
     "output_type": "execute_result"
    }
   ],
   "source": [
    "df_clean.shape"
   ]
  },
  {
   "cell_type": "markdown",
   "id": "c766aec8-b56e-455c-8ce9-904375745689",
   "metadata": {},
   "source": [
    "This is now cleaned adequately."
   ]
  },
  {
   "cell_type": "code",
   "execution_count": 14,
   "id": "60b0f777-094f-4f06-be8b-ddf73ea36c03",
   "metadata": {},
   "outputs": [],
   "source": [
    "part1results_raw = pd.read_excel('part1results.xlsx')"
   ]
  },
  {
   "cell_type": "code",
   "execution_count": 15,
   "id": "ef4deac0-935b-4514-b6ab-222c75cfdcfc",
   "metadata": {},
   "outputs": [
    {
     "data": {
      "text/plain": [
       "(925, 3)"
      ]
     },
     "execution_count": 15,
     "metadata": {},
     "output_type": "execute_result"
    }
   ],
   "source": [
    "part1results_raw.shape"
   ]
  },
  {
   "cell_type": "code",
   "execution_count": 16,
   "id": "3bda5d21-c0ed-4731-883c-78788b240e9d",
   "metadata": {},
   "outputs": [],
   "source": [
    "part1results = pd.read_excel('part1results.xlsx', index_col=0)"
   ]
  },
  {
   "cell_type": "code",
   "execution_count": 17,
   "id": "beaa60e2-e021-4236-836a-953d757e3d17",
   "metadata": {},
   "outputs": [
    {
     "data": {
      "text/plain": [
       "(925, 2)"
      ]
     },
     "execution_count": 17,
     "metadata": {},
     "output_type": "execute_result"
    }
   ],
   "source": [
    "part1results.shape"
   ]
  },
  {
   "cell_type": "markdown",
   "id": "5d521025-2f18-495b-ab5d-2fc93f28559b",
   "metadata": {},
   "source": [
    "This establishes there are no duplicate candidate codes in part1results"
   ]
  },
  {
   "cell_type": "code",
   "execution_count": 18,
   "id": "817ee2fc-ae12-4fe3-be27-3b4813ead9ad",
   "metadata": {},
   "outputs": [
    {
     "data": {
      "text/html": [
       "<div>\n",
       "<style scoped>\n",
       "    .dataframe tbody tr th:only-of-type {\n",
       "        vertical-align: middle;\n",
       "    }\n",
       "\n",
       "    .dataframe tbody tr th {\n",
       "        vertical-align: top;\n",
       "    }\n",
       "\n",
       "    .dataframe thead th {\n",
       "        text-align: right;\n",
       "    }\n",
       "</style>\n",
       "<table border=\"1\" class=\"dataframe\">\n",
       "  <thead>\n",
       "    <tr style=\"text-align: right;\">\n",
       "      <th></th>\n",
       "      <th>total_score</th>\n",
       "      <th>status</th>\n",
       "    </tr>\n",
       "    <tr>\n",
       "      <th>candidatecode</th>\n",
       "      <th></th>\n",
       "      <th></th>\n",
       "    </tr>\n",
       "  </thead>\n",
       "  <tbody>\n",
       "    <tr>\n",
       "      <th>9660770</th>\n",
       "      <td>198</td>\n",
       "      <td>FAIL</td>\n",
       "    </tr>\n",
       "    <tr>\n",
       "      <th>200074596</th>\n",
       "      <td>215</td>\n",
       "      <td>FAIL</td>\n",
       "    </tr>\n",
       "    <tr>\n",
       "      <th>200076561</th>\n",
       "      <td>212</td>\n",
       "      <td>FAIL</td>\n",
       "    </tr>\n",
       "    <tr>\n",
       "      <th>1004201051</th>\n",
       "      <td>225</td>\n",
       "      <td>FAIL</td>\n",
       "    </tr>\n",
       "    <tr>\n",
       "      <th>1012984535</th>\n",
       "      <td>241</td>\n",
       "      <td>PASS</td>\n",
       "    </tr>\n",
       "  </tbody>\n",
       "</table>\n",
       "</div>"
      ],
      "text/plain": [
       "               total_score status\n",
       "candidatecode                    \n",
       "9660770                198   FAIL\n",
       "200074596              215   FAIL\n",
       "200076561              212   FAIL\n",
       "1004201051             225   FAIL\n",
       "1012984535             241   PASS"
      ]
     },
     "execution_count": 18,
     "metadata": {},
     "output_type": "execute_result"
    }
   ],
   "source": [
    "part1results.head()"
   ]
  },
  {
   "cell_type": "code",
   "execution_count": 19,
   "id": "bbe72007-d0d6-4aaa-90a0-0ffd7e5843db",
   "metadata": {},
   "outputs": [],
   "source": [
    "df_clean['Total_Score'] = part1results.total_score"
   ]
  },
  {
   "cell_type": "code",
   "execution_count": 20,
   "id": "ef0752b0-6328-46b4-a56f-f078b6205cd3",
   "metadata": {},
   "outputs": [],
   "source": [
    "df_clean['Status'] = part1results.status"
   ]
  },
  {
   "cell_type": "code",
   "execution_count": 21,
   "id": "a2bbe03e-cd7d-4e9b-8da2-f4a73e42c7d1",
   "metadata": {},
   "outputs": [
    {
     "data": {
      "text/plain": [
       "CandidateCode\n",
       "1195124581     NaN\n",
       "1363874476    PASS\n",
       "1083906462     NaN\n",
       "1263087594     NaN\n",
       "1050338045     NaN\n",
       "Name: Status, dtype: object"
      ]
     },
     "execution_count": 21,
     "metadata": {},
     "output_type": "execute_result"
    }
   ],
   "source": [
    "df_clean.Status.head()"
   ]
  },
  {
   "cell_type": "code",
   "execution_count": 22,
   "id": "06bf0821-f9b8-4f27-8d12-bb67fcb7f4bc",
   "metadata": {},
   "outputs": [
    {
     "data": {
      "text/plain": [
       "(5449, 6)"
      ]
     },
     "execution_count": 22,
     "metadata": {},
     "output_type": "execute_result"
    }
   ],
   "source": [
    "df_clean.shape"
   ]
  },
  {
   "cell_type": "code",
   "execution_count": 23,
   "id": "4b9ebee0-ed49-4a91-a295-393d0214a5b6",
   "metadata": {},
   "outputs": [
    {
     "data": {
      "text/plain": [
       "CandidateCode\n",
       "1195124581    False\n",
       "1363874476     True\n",
       "1083906462    False\n",
       "1263087594    False\n",
       "1050338045    False\n",
       "Name: Status, dtype: bool"
      ]
     },
     "execution_count": 23,
     "metadata": {},
     "output_type": "execute_result"
    }
   ],
   "source": [
    "pd.notnull(df_clean.Status).head()"
   ]
  },
  {
   "cell_type": "code",
   "execution_count": 24,
   "id": "8232c29d-2225-4f81-990c-6a6c57c203ad",
   "metadata": {},
   "outputs": [],
   "source": [
    "df_may = df_clean[pd.notnull(df_clean.Status)]"
   ]
  },
  {
   "cell_type": "code",
   "execution_count": 25,
   "id": "b060d315-46e3-48b5-b2f0-4714ab0b2a85",
   "metadata": {},
   "outputs": [
    {
     "data": {
      "text/plain": [
       "(925, 6)"
      ]
     },
     "execution_count": 25,
     "metadata": {},
     "output_type": "execute_result"
    }
   ],
   "source": [
    "df_may.shape"
   ]
  },
  {
   "cell_type": "code",
   "execution_count": 26,
   "id": "1c3c9fe0-8fc2-4679-bb0a-2f5b0c25e9c5",
   "metadata": {
    "tags": []
   },
   "outputs": [],
   "source": [
    "df_CA = df_may[df_may.UniversityCountry.isin(['CANADA'])]"
   ]
  },
  {
   "cell_type": "code",
   "execution_count": 27,
   "id": "b0d65182-b804-4af5-82d0-d62bc6bd86ba",
   "metadata": {},
   "outputs": [],
   "source": [
    "num_CA = len(df_CA.index)"
   ]
  },
  {
   "cell_type": "code",
   "execution_count": 28,
   "id": "21c548df-7854-481b-9289-d4ad70954b84",
   "metadata": {},
   "outputs": [],
   "source": [
    "df_USA = df_may[df_may.UniversityCountry.isin(['USA'])]"
   ]
  },
  {
   "cell_type": "code",
   "execution_count": 29,
   "id": "9a13ef78-9dc0-4d2c-b9df-66b35f9b1c9a",
   "metadata": {},
   "outputs": [],
   "source": [
    "num_USA = len(df_USA.index)"
   ]
  },
  {
   "cell_type": "code",
   "execution_count": 30,
   "id": "ab9341b4-a85f-49e0-9291-a30c3e4c76f1",
   "metadata": {},
   "outputs": [],
   "source": [
    "df_INTERNATIONAL = df_may[(~df_may.UniversityCountry.isin(['CANADA','USA'])) & (pd.notna(df_may.UniversityCountry))]"
   ]
  },
  {
   "cell_type": "code",
   "execution_count": 31,
   "id": "d0b47638-cdbf-4dca-aae4-4992858bcf0a",
   "metadata": {},
   "outputs": [],
   "source": [
    "num_INTERNATIONAL = len(df_INTERNATIONAL.index)"
   ]
  },
  {
   "cell_type": "code",
   "execution_count": 32,
   "id": "4816e3f4-4190-4458-8d15-9b3dce39246b",
   "metadata": {},
   "outputs": [],
   "source": [
    "df_NOCOUNTRY = df_may[pd.isna(df_may.UniversityCountry)]"
   ]
  },
  {
   "cell_type": "code",
   "execution_count": 33,
   "id": "d254b725-8c74-403c-a279-8f58778b4305",
   "metadata": {},
   "outputs": [],
   "source": [
    "num_NOCOUNTRY = len(df_NOCOUNTRY.index)"
   ]
  },
  {
   "cell_type": "code",
   "execution_count": 34,
   "id": "19eed205-001d-4311-8eb9-bd150afa94a7",
   "metadata": {},
   "outputs": [],
   "source": [
    "import numpy as np"
   ]
  },
  {
   "cell_type": "code",
   "execution_count": 35,
   "id": "492376de-33a5-4db5-9a7f-2db013e4425d",
   "metadata": {},
   "outputs": [],
   "source": [
    "passquantity_CA = np.sum(np.array([df_CA.Status == 'PASS']))"
   ]
  },
  {
   "cell_type": "code",
   "execution_count": 36,
   "id": "16924f1b-df85-4892-9dd2-034959e274fb",
   "metadata": {},
   "outputs": [],
   "source": [
    "passrate_CA = np.mean(np.array([df_CA.Status == 'PASS']))"
   ]
  },
  {
   "cell_type": "code",
   "execution_count": 37,
   "id": "84132c06-3faf-4d68-b427-565400e36a46",
   "metadata": {},
   "outputs": [],
   "source": [
    "passquantity_USA = np.sum(np.array([df_USA.Status == 'PASS']))"
   ]
  },
  {
   "cell_type": "code",
   "execution_count": 38,
   "id": "d022b993-b21d-4644-b26d-eb2b8c1e4716",
   "metadata": {},
   "outputs": [],
   "source": [
    "passrate_USA = np.mean(np.array([df_USA.Status == 'PASS']))"
   ]
  },
  {
   "cell_type": "code",
   "execution_count": 39,
   "id": "d5f63b64-b761-44f6-b4b2-7bdb04fb2ad7",
   "metadata": {},
   "outputs": [],
   "source": [
    "passquantity_INTERNATIONAL = np.sum(np.array([df_INTERNATIONAL.Status == 'PASS']))"
   ]
  },
  {
   "cell_type": "code",
   "execution_count": 40,
   "id": "83a56ada-4ed4-4542-9463-00999df67dfa",
   "metadata": {},
   "outputs": [],
   "source": [
    "passrate_INTERNATIONAL = np.mean(np.array([df_INTERNATIONAL.Status == 'PASS']))"
   ]
  },
  {
   "cell_type": "code",
   "execution_count": 41,
   "id": "94eb95f9-0807-4e37-bf8f-0bcc4afbafb7",
   "metadata": {},
   "outputs": [],
   "source": [
    "passquantity_NOCOUNTRY = np.sum(np.array([df_NOCOUNTRY.Status == 'PASS']))"
   ]
  },
  {
   "cell_type": "code",
   "execution_count": 42,
   "id": "378c10f4-4da4-477c-81b4-d61b12c03b0c",
   "metadata": {},
   "outputs": [],
   "source": [
    "passrate_NOCOUNTRY = np.mean(np.array([df_NOCOUNTRY.Status == 'PASS']))"
   ]
  },
  {
   "cell_type": "code",
   "execution_count": 43,
   "id": "3c6b9ff1-8dd6-4f25-9963-63fd47ca8b17",
   "metadata": {},
   "outputs": [
    {
     "data": {
      "text/plain": [
       "33"
      ]
     },
     "execution_count": 43,
     "metadata": {},
     "output_type": "execute_result"
    }
   ],
   "source": [
    "passquantity_CA"
   ]
  },
  {
   "cell_type": "code",
   "execution_count": 44,
   "id": "dfe73b55-7c38-411e-81a6-bd78da4c078e",
   "metadata": {},
   "outputs": [
    {
     "data": {
      "text/plain": [
       "0.7674418604651163"
      ]
     },
     "execution_count": 44,
     "metadata": {},
     "output_type": "execute_result"
    }
   ],
   "source": [
    "passrate_CA"
   ]
  },
  {
   "cell_type": "code",
   "execution_count": 45,
   "id": "a73188cb-f55d-48d8-9be7-d3eb5031c35e",
   "metadata": {},
   "outputs": [],
   "source": [
    "percent_CA = int(passrate_CA * 100)"
   ]
  },
  {
   "cell_type": "code",
   "execution_count": 46,
   "id": "40abfa9d-0ddd-4e6b-b28d-bc5315800bcc",
   "metadata": {},
   "outputs": [
    {
     "data": {
      "text/plain": [
       "76"
      ]
     },
     "execution_count": 46,
     "metadata": {},
     "output_type": "execute_result"
    }
   ],
   "source": [
    "percent_CA"
   ]
  },
  {
   "cell_type": "code",
   "execution_count": 47,
   "id": "6ce40622-cf44-4abf-afa4-e1a6c0ef6412",
   "metadata": {},
   "outputs": [
    {
     "data": {
      "text/plain": [
       "7"
      ]
     },
     "execution_count": 47,
     "metadata": {},
     "output_type": "execute_result"
    }
   ],
   "source": [
    "passquantity_USA"
   ]
  },
  {
   "cell_type": "code",
   "execution_count": 48,
   "id": "4b45b128-b889-470b-84ab-b3abf66247fa",
   "metadata": {},
   "outputs": [
    {
     "data": {
      "text/plain": [
       "0.875"
      ]
     },
     "execution_count": 48,
     "metadata": {},
     "output_type": "execute_result"
    }
   ],
   "source": [
    "passrate_USA"
   ]
  },
  {
   "cell_type": "code",
   "execution_count": 49,
   "id": "47f94e90-a26c-4fa5-8656-8515eb25c20c",
   "metadata": {},
   "outputs": [],
   "source": [
    "percent_USA = int(passrate_USA * 100)"
   ]
  },
  {
   "cell_type": "code",
   "execution_count": 50,
   "id": "e314b381-5367-49c8-ac72-3e231bb0e810",
   "metadata": {},
   "outputs": [
    {
     "data": {
      "text/plain": [
       "386"
      ]
     },
     "execution_count": 50,
     "metadata": {},
     "output_type": "execute_result"
    }
   ],
   "source": [
    "passquantity_INTERNATIONAL"
   ]
  },
  {
   "cell_type": "code",
   "execution_count": 51,
   "id": "b72b7825-de77-4738-bdbf-2703a30ac385",
   "metadata": {},
   "outputs": [
    {
     "data": {
      "text/plain": [
       "0.45093457943925236"
      ]
     },
     "execution_count": 51,
     "metadata": {},
     "output_type": "execute_result"
    }
   ],
   "source": [
    "passrate_INTERNATIONAL"
   ]
  },
  {
   "cell_type": "code",
   "execution_count": 52,
   "id": "25d4cfed-656a-4692-ba09-a2c78639879a",
   "metadata": {},
   "outputs": [],
   "source": [
    "percent_INTERNATIONAL = int(passrate_INTERNATIONAL * 100)"
   ]
  },
  {
   "cell_type": "code",
   "execution_count": 53,
   "id": "674c3eaa-61a5-40f6-8190-0bec68a273bc",
   "metadata": {},
   "outputs": [
    {
     "data": {
      "text/plain": [
       "3"
      ]
     },
     "execution_count": 53,
     "metadata": {},
     "output_type": "execute_result"
    }
   ],
   "source": [
    "passquantity_NOCOUNTRY"
   ]
  },
  {
   "cell_type": "code",
   "execution_count": 54,
   "id": "eacf5193-ace9-40ec-b437-1672b1105d10",
   "metadata": {},
   "outputs": [
    {
     "data": {
      "text/plain": [
       "0.16666666666666666"
      ]
     },
     "execution_count": 54,
     "metadata": {},
     "output_type": "execute_result"
    }
   ],
   "source": [
    "passrate_NOCOUNTRY"
   ]
  },
  {
   "cell_type": "code",
   "execution_count": 55,
   "id": "9460f2d6-c94c-4b6b-999d-83c4af09cd2e",
   "metadata": {},
   "outputs": [],
   "source": [
    "percent_NOCOUNTRY = int(passrate_NOCOUNTRY * 100)"
   ]
  },
  {
   "cell_type": "code",
   "execution_count": 56,
   "id": "ee009f16-0968-4d98-bfbe-84668dd7b187",
   "metadata": {},
   "outputs": [],
   "source": [
    "pass_table = pd.DataFrame([['Canada', num_CA, percent_CA],\n",
    "                           ['USA', num_USA, percent_USA],\n",
    "                          ['International', num_INTERNATIONAL, percent_INTERNATIONAL],\n",
    "                          ['Missing Country', num_NOCOUNTRY, percent_NOCOUNTRY]],\n",
    "                         columns=['Medical School Country', 'Number of Candidates', 'Percentage of Candidates who passed the exam'])"
   ]
  },
  {
   "cell_type": "code",
   "execution_count": 57,
   "id": "82b20922-39e8-4b45-be7f-e9b71f95d108",
   "metadata": {},
   "outputs": [
    {
     "data": {
      "text/html": [
       "<div>\n",
       "<style scoped>\n",
       "    .dataframe tbody tr th:only-of-type {\n",
       "        vertical-align: middle;\n",
       "    }\n",
       "\n",
       "    .dataframe tbody tr th {\n",
       "        vertical-align: top;\n",
       "    }\n",
       "\n",
       "    .dataframe thead th {\n",
       "        text-align: right;\n",
       "    }\n",
       "</style>\n",
       "<table border=\"1\" class=\"dataframe\">\n",
       "  <thead>\n",
       "    <tr style=\"text-align: right;\">\n",
       "      <th></th>\n",
       "      <th>Medical School Country</th>\n",
       "      <th>Number of Candidates</th>\n",
       "      <th>Percentage of Candidates who passed the exam</th>\n",
       "    </tr>\n",
       "  </thead>\n",
       "  <tbody>\n",
       "    <tr>\n",
       "      <th>0</th>\n",
       "      <td>Canada</td>\n",
       "      <td>43</td>\n",
       "      <td>76</td>\n",
       "    </tr>\n",
       "    <tr>\n",
       "      <th>1</th>\n",
       "      <td>USA</td>\n",
       "      <td>8</td>\n",
       "      <td>87</td>\n",
       "    </tr>\n",
       "    <tr>\n",
       "      <th>2</th>\n",
       "      <td>International</td>\n",
       "      <td>856</td>\n",
       "      <td>45</td>\n",
       "    </tr>\n",
       "    <tr>\n",
       "      <th>3</th>\n",
       "      <td>Missing Country</td>\n",
       "      <td>18</td>\n",
       "      <td>16</td>\n",
       "    </tr>\n",
       "  </tbody>\n",
       "</table>\n",
       "</div>"
      ],
      "text/plain": [
       "  Medical School Country  Number of Candidates  \\\n",
       "0                 Canada                    43   \n",
       "1                    USA                     8   \n",
       "2          International                   856   \n",
       "3        Missing Country                    18   \n",
       "\n",
       "   Percentage of Candidates who passed the exam  \n",
       "0                                            76  \n",
       "1                                            87  \n",
       "2                                            45  \n",
       "3                                            16  "
      ]
     },
     "execution_count": 57,
     "metadata": {},
     "output_type": "execute_result"
    }
   ],
   "source": [
    "pass_table"
   ]
  },
  {
   "cell_type": "code",
   "execution_count": null,
   "id": "2207be31-a5c1-4ab1-a076-cbfeeb5067ff",
   "metadata": {},
   "outputs": [],
   "source": []
  }
 ],
 "metadata": {
  "kernelspec": {
   "display_name": "Python 3 (ipykernel)",
   "language": "python",
   "name": "python3"
  },
  "language_info": {
   "codemirror_mode": {
    "name": "ipython",
    "version": 3
   },
   "file_extension": ".py",
   "mimetype": "text/x-python",
   "name": "python",
   "nbconvert_exporter": "python",
   "pygments_lexer": "ipython3",
   "version": "3.9.15"
  }
 },
 "nbformat": 4,
 "nbformat_minor": 5
}
